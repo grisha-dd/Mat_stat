{
 "cells": [
  {
   "cell_type": "markdown",
   "metadata": {},
   "source": [
    "1. Вероятность того, что стрелок попадет в мишень, выстрелив один раз, равна 0.8. Стрелок выстрелил 100 раз. Найдите вероятность того, что стрелок попадет в цель ровно 85 раз.\n"
   ]
  },
  {
   "cell_type": "markdown",
   "metadata": {},
   "source": [
    "Используем биномильное распределение"
   ]
  },
  {
   "cell_type": "code",
   "execution_count": 64,
   "metadata": {},
   "outputs": [],
   "source": [
    "from math import factorial\n",
    "def binominal(n, k, p):\n",
    "    C = int(factorial(n) / (factorial(k) * factorial(n - k)))\n",
    "    q = 1 - p\n",
    "    return float(C * (p**k) * (q**(n-k)))"
   ]
  },
  {
   "cell_type": "code",
   "execution_count": 65,
   "metadata": {},
   "outputs": [
    {
     "name": "stdout",
     "output_type": "stream",
     "text": [
      "0.048061793700746355\n"
     ]
    }
   ],
   "source": [
    "n1 = 100\n",
    "k1 = 85 \n",
    "p1 = 0.8\n",
    "task_1 = binominal(n1,k1,p1)\n",
    "print (task_1)"
   ]
  },
  {
   "cell_type": "markdown",
   "metadata": {},
   "source": [
    "2. Вероятность того, что лампочка перегорит в течение первого дня эксплуатации, равна 0.0004. В жилом комплексе после ремонта в один день включили 5000 новых лампочек. Какова вероятность, что ни одна из них не перегорит в первый день? Какова вероятность, что перегорят ровно две?\n"
   ]
  },
  {
   "cell_type": "markdown",
   "metadata": {},
   "source": [
    "Используем распределение Пуассона "
   ]
  },
  {
   "cell_type": "code",
   "execution_count": 66,
   "metadata": {},
   "outputs": [],
   "source": [
    "from math import e\n",
    "def pausson(n, m, p):\n",
    "    l = p * n\n",
    "    return (l**m/factorial(m))*e**(-l)"
   ]
  },
  {
   "cell_type": "code",
   "execution_count": 67,
   "metadata": {},
   "outputs": [
    {
     "name": "stdout",
     "output_type": "stream",
     "text": [
      "Вероятность, что ни одна из лампочек не перегорит 0.1353352832366127\n",
      "Вероятность, что  перегорят ровно две лампочки 0.2706705664732254\n"
     ]
    }
   ],
   "source": [
    "n1 = 5000\n",
    "m1, m2 = 0, 2\n",
    "p1 = 0.0004\n",
    "print(f\"Вероятность, что ни одна из лампочек не перегорит {pausson(n1, m1, p1)}\")\n",
    "print(f\"Вероятность, что  перегорят ровно две лампочки {pausson(n1, m2, p1)}\")"
   ]
  },
  {
   "cell_type": "markdown",
   "metadata": {},
   "source": [
    "3. Монету подбросили 144 раза. Какова вероятность, что орел выпадет ровно 70 раз?\n"
   ]
  },
  {
   "cell_type": "markdown",
   "metadata": {},
   "source": [
    "Используем биномильное распределение"
   ]
  },
  {
   "cell_type": "code",
   "execution_count": 68,
   "metadata": {},
   "outputs": [
    {
     "name": "stdout",
     "output_type": "stream",
     "text": [
      "0.06281178035144776\n"
     ]
    }
   ],
   "source": [
    "n3 = 144\n",
    "k3 = 70 \n",
    "p3 = 0.5\n",
    "task_3 = binominal(n3,k3,p3)\n",
    "print (task_3)"
   ]
  },
  {
   "cell_type": "markdown",
   "metadata": {},
   "source": [
    "4. В первом ящике находится 10 мячей, из которых 7 - белые. Во втором ящике - 11 мячей, из которых 9 белых. Из каждого ящика вытаскивают случайным образом по два мяча. Какова вероятность того, что все мячи белые? Какова вероятность того, что ровно два мяча белые? Какова вероятность того, что хотя бы один мяч белый?"
   ]
  },
  {
   "cell_type": "code",
   "execution_count": 69,
   "metadata": {},
   "outputs": [],
   "source": [
    "def combinations(n, k):\n",
    "    C = int(factorial(n) / (factorial(k) * factorial(n - k)))\n",
    "    return C"
   ]
  },
  {
   "cell_type": "code",
   "execution_count": 70,
   "metadata": {},
   "outputs": [
    {
     "name": "stdout",
     "output_type": "stream",
     "text": [
      "Вероятность, что все мячи белые 0.3054545454545455\n"
     ]
    }
   ],
   "source": [
    "# Вероятность вытащить 2 белых из 1 ящика \n",
    "P1 = combinations (7, 2) / combinations (10, 2) \n",
    "# Вероятность вытащить 2 белых из 2 ящика \n",
    "P2 = combinations (9, 2) / combinations (11, 2)\n",
    "print(f\"Вероятность, что все мячи белые {P1 * P2}\")"
   ]
  },
  {
   "cell_type": "code",
   "execution_count": 71,
   "metadata": {},
   "outputs": [],
   "source": [
    "# Вероятность вытащить 2 белых из 1 ящика \n",
    "P1\n",
    "# Вероятность вытащить 2  не белых из 2 ящика \n",
    "P21 = combinations (2, 2) / combinations (11, 2) \n",
    "\n",
    "# Вероятность вытащить 2 не белых из 1 ящика \n",
    "P22 = combinations (3, 2) / combinations (10, 2) \n",
    "# Вероятность вытащить 2 белых из 2 ящика \n",
    "P2\n",
    "\n",
    "# Вероятность вытащить только 1 белый из 1 ящика \n",
    "P23 = 7/10 * 3/9 + 3/10 * 7/9 \n",
    "# Вероятность вытащить только 1 белый из 2 ящика \n",
    "P24 = 9/11 * 2/10 + 2/11 * 9/10"
   ]
  },
  {
   "cell_type": "code",
   "execution_count": 72,
   "metadata": {},
   "outputs": [
    {
     "name": "stdout",
     "output_type": "stream",
     "text": [
      "Вероятность,что ровно два мяча белые 0.20484848484848484\n"
     ]
    }
   ],
   "source": [
    "print(f\"Вероятность,что ровно два мяча белые {P1 * P21 + P22 * P2 + P23 * P24}\")"
   ]
  },
  {
   "cell_type": "code",
   "execution_count": 77,
   "metadata": {},
   "outputs": [
    {
     "name": "stdout",
     "output_type": "stream",
     "text": [
      "Вероятность, что хотя бы один мяч белый 0.9987878787878788\n"
     ]
    }
   ],
   "source": [
    "# Вероятность вытащить 2 не белых из 1 ящика \n",
    "P22\n",
    "# Вероятность вытащить 2 не белых из 2 ящика \n",
    "P21 \n",
    "\n",
    "print(f\"Вероятность, что хотя бы один мяч белый {1 - P22*P21}\")"
   ]
  },
  {
   "cell_type": "code",
   "execution_count": null,
   "metadata": {},
   "outputs": [],
   "source": []
  }
 ],
 "metadata": {
  "kernelspec": {
   "display_name": "Python 3",
   "language": "python",
   "name": "python3"
  },
  "language_info": {
   "codemirror_mode": {
    "name": "ipython",
    "version": 3
   },
   "file_extension": ".py",
   "mimetype": "text/x-python",
   "name": "python",
   "nbconvert_exporter": "python",
   "pygments_lexer": "ipython3",
   "version": "3.8.5"
  }
 },
 "nbformat": 4,
 "nbformat_minor": 4
}
