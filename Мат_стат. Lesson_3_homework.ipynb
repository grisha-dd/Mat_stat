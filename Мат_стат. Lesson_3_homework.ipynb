{
 "cells": [
  {
   "cell_type": "markdown",
   "metadata": {},
   "source": [
    "1. Даны значения зарплат из выборки выпускников: 100, 80, 75, 77, 89, 33, 45, 25, 65, 17, 30, 24, 57, 55, 70, 75, 65, 84, 90, 150. Посчитать (желательно без использования статистических методов наподобие std, var, mean) среднее арифметическое, среднее квадратичное отклонение, смещенную и несмещенную оценки дисперсий для данной выборки.\n"
   ]
  },
  {
   "cell_type": "code",
   "execution_count": 10,
   "metadata": {},
   "outputs": [
    {
     "name": "stdout",
     "output_type": "stream",
     "text": [
      "среднее арифметическое: 65.3 \n",
      "check: 65.3 \n"
     ]
    }
   ],
   "source": [
    "import numpy as np\n",
    "salaries = [100, 80, 75, 77, 89, 33, 45, 25, 65, 17, 30, 24, 57, 55, 70, 75, 65, 84, 90, 150]\n",
    "salaries_mean = sum(salaries)/len(salaries)\n",
    "print (f\"среднее арифметическое: {salaries_mean} \")\n",
    "print (f\"check: {np.mean(salaries)} \")"
   ]
  },
  {
   "cell_type": "code",
   "execution_count": 20,
   "metadata": {},
   "outputs": [
    {
     "name": "stdout",
     "output_type": "stream",
     "text": [
      "среднее квадратичное отклонение выборки: 31.624607341019814 \n",
      "check: 31.624607341019814 \n"
     ]
    }
   ],
   "source": [
    "print (f\"среднее квадратичное отклонение выборки: {np.sqrt(sum((i-salaries_mean)**2 for i in salaries)/(len(salaries)-1))} \")\n",
    "print (f\"check: {np.std(salaries, ddof=1)} \")"
   ]
  },
  {
   "cell_type": "code",
   "execution_count": 21,
   "metadata": {},
   "outputs": [
    {
     "name": "stdout",
     "output_type": "stream",
     "text": [
      "смещенная оценка дисперсии: 950.11 \n",
      "check: 950.11 \n"
     ]
    }
   ],
   "source": [
    "print (f\"смещенная оценка дисперсии: {(sum((i-salaries_mean)**2 for i in salaries)/(len(salaries)))} \")\n",
    "print (f\"check: {np.var(salaries, ddof=0)} \")"
   ]
  },
  {
   "cell_type": "code",
   "execution_count": 22,
   "metadata": {},
   "outputs": [
    {
     "name": "stdout",
     "output_type": "stream",
     "text": [
      "несмещенная оценка дисперсии: 1000.1157894736842 \n",
      "check: 1000.1157894736842 \n"
     ]
    }
   ],
   "source": [
    "print (f\"несмещенная оценка дисперсии: {(sum((i-salaries_mean)**2 for i in salaries)/(len(salaries)-1))} \")\n",
    "print (f\"check: {np.var(salaries, ddof=1)} \")"
   ]
  },
  {
   "cell_type": "markdown",
   "metadata": {},
   "source": [
    "2. В первом ящике находится 8 мячей, из которых 5 - белые. Во втором ящике - 12 мячей, из которых 5 белых. Из первого ящика вытаскивают случайным образом два мяча, из второго - 4. Какова вероятность того, что 3 мяча белые?\n"
   ]
  },
  {
   "cell_type": "code",
   "execution_count": 24,
   "metadata": {},
   "outputs": [],
   "source": [
    "from math import factorial\n",
    "def combinations(n, k):\n",
    "    C = int(factorial(n) / (factorial(k) * factorial(n - k)))\n",
    "    return C"
   ]
  },
  {
   "cell_type": "code",
   "execution_count": 28,
   "metadata": {},
   "outputs": [],
   "source": [
    "t1 = 8\n",
    "w1 = 5\n",
    "t2 = 12\n",
    "w2 = 5 \n",
    "\n",
    "r1 = 2\n",
    "r2 = 4\n",
    "\n"
   ]
  },
  {
   "cell_type": "code",
   "execution_count": 48,
   "metadata": {},
   "outputs": [
    {
     "name": "stdout",
     "output_type": "stream",
     "text": [
      "Вероятность вытащить 2 белых мяча из 1 ящика и 1 из 2 ящика: 0.12626262626262627 \n"
     ]
    }
   ],
   "source": [
    "P1 = combinations(w1, 2) / combinations(t1, r1) * (combinations(w2, 1) * combinations(t2 - w2, 3))/combinations(t2, r2)\n",
    "print(f\"Вероятность вытащить 2 белых мяча из 1 ящика и 1 из 2 ящика: {P1} \")"
   ]
  },
  {
   "cell_type": "code",
   "execution_count": 49,
   "metadata": {},
   "outputs": [
    {
     "name": "stdout",
     "output_type": "stream",
     "text": [
      "Вероятность вытащить 1 белый мяч из 1 ящика и 2 из 2 ящика: 0.22727272727272727 \n"
     ]
    }
   ],
   "source": [
    "P2 = combinations(w1, 1) * combinations(t1 - w1, 1)/ combinations(t1, r1) * (combinations(w2, 2) * combinations(t2 - w2, 2))/combinations(t2, r2)\n",
    "print(f\"Вероятность вытащить 1 белый мяч из 1 ящика и 2 из 2 ящика: {P2} \")"
   ]
  },
  {
   "cell_type": "code",
   "execution_count": 44,
   "metadata": {},
   "outputs": [
    {
     "name": "stdout",
     "output_type": "stream",
     "text": [
      "Вероятность вытащить 0 белых мяча из 1 ящика и 3 из 2 ящика: 0.015151515151515152 \n"
     ]
    }
   ],
   "source": [
    "P3 = combinations((t1 - w1), 2)/combinations(t1, r1) * (combinations(w2, 3) * combinations(t2 - w2, 1))/combinations(t2, r2)\n",
    "print(f\"Вероятность вытащить 0 белых мяча из 1 ящика и 3 из 2 ящика: {P3} \")"
   ]
  },
  {
   "cell_type": "code",
   "execution_count": 50,
   "metadata": {},
   "outputs": [
    {
     "name": "stdout",
     "output_type": "stream",
     "text": [
      "Вероятность вытащить 3 белых мяча: 0.3686868686868687 \n"
     ]
    }
   ],
   "source": [
    "print(f\"Вероятность вытащить 3 белых мяча: {P1 + P2 + P3} \")"
   ]
  },
  {
   "cell_type": "markdown",
   "metadata": {},
   "source": [
    "3. На соревновании по биатлону один из трех спортсменов стреляет и попадает в мишень. Вероятность попадания для первого спортсмена равна 0.9, для второго — 0.8, для третьего — 0.6. Найти вероятность того, что выстрел произведен: a). первым спортсменом б). вторым спортсменом в). третьим спортсменом.\n"
   ]
  },
  {
   "cell_type": "code",
   "execution_count": 55,
   "metadata": {},
   "outputs": [],
   "source": [
    "s1 = 0.9\n",
    "s2 = 0.8\n",
    "s3 = 0.6\n",
    "\n",
    "p = 1/3"
   ]
  },
  {
   "cell_type": "code",
   "execution_count": 56,
   "metadata": {},
   "outputs": [
    {
     "name": "stdout",
     "output_type": "stream",
     "text": [
      " Полная вероятность: 0.7666666666666666 \n"
     ]
    }
   ],
   "source": [
    "p_total = p * s1 + p * s2  + p * s3\n",
    "print(f\" Полная вероятность: {p_total} \")"
   ]
  },
  {
   "cell_type": "markdown",
   "metadata": {},
   "source": [
    "По формуле Байеса:"
   ]
  },
  {
   "cell_type": "code",
   "execution_count": 57,
   "metadata": {},
   "outputs": [],
   "source": [
    "def bayes (p1, p2, total):\n",
    "    return p1 * p2 / total"
   ]
  },
  {
   "cell_type": "code",
   "execution_count": 59,
   "metadata": {},
   "outputs": [
    {
     "name": "stdout",
     "output_type": "stream",
     "text": [
      "Вероятность того, что выстрел произведен первым спортсменом: 0.391304347826087 \n"
     ]
    }
   ],
   "source": [
    "print(f\"Вероятность того, что выстрел произведен первым спортсменом: {bayes(p, s1, p_total)} \")"
   ]
  },
  {
   "cell_type": "code",
   "execution_count": 60,
   "metadata": {},
   "outputs": [
    {
     "name": "stdout",
     "output_type": "stream",
     "text": [
      "Вероятность того, что выстрел произведен первым спортсменом: 0.3478260869565218 \n"
     ]
    }
   ],
   "source": [
    "print(f\"Вероятность того, что выстрел произведен вторым спортсменом: {bayes(p, s2, p_total)} \")"
   ]
  },
  {
   "cell_type": "code",
   "execution_count": 61,
   "metadata": {},
   "outputs": [
    {
     "name": "stdout",
     "output_type": "stream",
     "text": [
      "Вероятность того, что выстрел произведен третьим спортсменом: 0.2608695652173913 \n"
     ]
    }
   ],
   "source": [
    "print(f\"Вероятность того, что выстрел произведен третьим спортсменом: {bayes(p, s3, p_total)} \")"
   ]
  },
  {
   "cell_type": "markdown",
   "metadata": {},
   "source": [
    "4. В университет на факультеты A и B поступило равное количество студентов, а на факультет C студентов поступило столько же, сколько на A и B вместе. Вероятность того, что студент факультета A сдаст первую сессию, равна 0.8. Для студента факультета B эта вероятность равна 0.7, а для студента факультета C - 0.9. Студент сдал первую сессию. Какова вероятность, что он учится: a). на факультете A б). на факультете B в). на факультете C?\n"
   ]
  },
  {
   "cell_type": "code",
   "execution_count": 72,
   "metadata": {},
   "outputs": [],
   "source": [
    "sA = 0.8\n",
    "sB = 0.7\n",
    "sC = 0.9 \n",
    "\n",
    "pA = pB = 0.25\n",
    "pC = 0.5"
   ]
  },
  {
   "cell_type": "code",
   "execution_count": 73,
   "metadata": {},
   "outputs": [
    {
     "name": "stdout",
     "output_type": "stream",
     "text": [
      " Полная вероятность: 0.825 \n"
     ]
    }
   ],
   "source": [
    "p_total = pA * sA + sB * pB  + sC * pC\n",
    "print(f\" Полная вероятность: {p_total} \")"
   ]
  },
  {
   "cell_type": "markdown",
   "metadata": {},
   "source": [
    "Аналогично по формуле Байеса:"
   ]
  },
  {
   "cell_type": "code",
   "execution_count": 74,
   "metadata": {},
   "outputs": [
    {
     "name": "stdout",
     "output_type": "stream",
     "text": [
      "Вероятность того, что сессию сдал студент с факультета А: 0.24242424242424246 \n"
     ]
    }
   ],
   "source": [
    "print(f\"Вероятность того, что сессию сдал студент с факультета А: {bayes(pA, sA, p_total)} \")"
   ]
  },
  {
   "cell_type": "code",
   "execution_count": 75,
   "metadata": {},
   "outputs": [
    {
     "name": "stdout",
     "output_type": "stream",
     "text": [
      "Вероятность того, что сессию сдал студент с факультета B: 0.21212121212121213 \n"
     ]
    }
   ],
   "source": [
    "print(f\"Вероятность того, что сессию сдал студент с факультета B: {bayes(pB, sB, p_total)} \")"
   ]
  },
  {
   "cell_type": "code",
   "execution_count": 76,
   "metadata": {},
   "outputs": [
    {
     "name": "stdout",
     "output_type": "stream",
     "text": [
      "Вероятность того, что сессию сдал студент с факультета C: 0.5454545454545455 \n"
     ]
    }
   ],
   "source": [
    "print(f\"Вероятность того, что сессию сдал студент с факультета C: {bayes(pC, sC, p_total)} \")"
   ]
  },
  {
   "cell_type": "markdown",
   "metadata": {},
   "source": [
    "5. Устройство состоит из трех деталей. Для первой детали вероятность выйти из строя в первый месяц равна 0.1, для второй - 0.2, для третьей - 0.25. Какова вероятность того, что в первый месяц выйдут из строя: а). все детали б). только две детали в). хотя бы одна деталь г). от одной до двух деталей?"
   ]
  },
  {
   "cell_type": "code",
   "execution_count": 78,
   "metadata": {},
   "outputs": [],
   "source": [
    "d1 = 0.1\n",
    "d2 = 0.2\n",
    "d3 = 0.25\n"
   ]
  },
  {
   "cell_type": "code",
   "execution_count": 86,
   "metadata": {},
   "outputs": [
    {
     "name": "stdout",
     "output_type": "stream",
     "text": [
      "Вероятность того, что в первый месяц выйдут из строя все детали: 0.005000000000000001\n"
     ]
    }
   ],
   "source": [
    "a = d1 * d2 * d3\n",
    "print(f\"Вероятность того, что в первый месяц выйдут из строя все детали: {a}\")"
   ]
  },
  {
   "cell_type": "code",
   "execution_count": 87,
   "metadata": {},
   "outputs": [
    {
     "name": "stdout",
     "output_type": "stream",
     "text": [
      "Вероятность того, что в первый месяц выйдут из строя только две детали: 0.08000000000000002\n"
     ]
    }
   ],
   "source": [
    "b = d1 * d2 * (1-d3) + d1 * (1 - d2) * d3 + (1 - d1) * d2 * d3\n",
    "print(f\"Вероятность того, что в первый месяц выйдут из строя только две детали: {b}\")"
   ]
  },
  {
   "cell_type": "code",
   "execution_count": 88,
   "metadata": {},
   "outputs": [
    {
     "name": "stdout",
     "output_type": "stream",
     "text": [
      "Вероятность того, что в первый месяц выйдут из строя хотя бы одна деталь: 0.45999999999999996\n"
     ]
    }
   ],
   "source": [
    "c = 1 - ((1-d1) * (1 - d2) * (1 - d3))\n",
    "print(f\"Вероятность того, что в первый месяц выйдут из строя хотя бы одна деталь: {c}\")"
   ]
  },
  {
   "cell_type": "code",
   "execution_count": 89,
   "metadata": {},
   "outputs": [
    {
     "name": "stdout",
     "output_type": "stream",
     "text": [
      "Вероятность того, что в первый месяц выйдут из строя от одной до двух деталей: 0.45499999999999996\n"
     ]
    }
   ],
   "source": [
    "d = c - a\n",
    "print(f\"Вероятность того, что в первый месяц выйдут из строя от одной до двух деталей: {d}\")"
   ]
  }
 ],
 "metadata": {
  "kernelspec": {
   "display_name": "Python 3",
   "language": "python",
   "name": "python3"
  },
  "language_info": {
   "codemirror_mode": {
    "name": "ipython",
    "version": 3
   },
   "file_extension": ".py",
   "mimetype": "text/x-python",
   "name": "python",
   "nbconvert_exporter": "python",
   "pygments_lexer": "ipython3",
   "version": "3.8.5"
  }
 },
 "nbformat": 4,
 "nbformat_minor": 4
}
