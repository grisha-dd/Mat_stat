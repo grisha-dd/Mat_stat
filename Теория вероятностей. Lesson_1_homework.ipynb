{
 "cells": [
  {
   "cell_type": "markdown",
   "metadata": {},
   "source": [
    "1. Из колоды в 52 карты извлекаются случайным образом 4 карты. a) Найти вероятность того, что все карты – крести. б) Найти вероятность, что среди 4-х карт окажется хотя бы один туз.\n"
   ]
  },
  {
   "cell_type": "markdown",
   "metadata": {},
   "source": [
    "a) Найти вероятность того, что все карты – крести. "
   ]
  },
  {
   "cell_type": "code",
   "execution_count": 78,
   "metadata": {},
   "outputs": [],
   "source": [
    "from math import factorial\n",
    "def combinations(n, k):\n",
    "    return int(factorial(n) / (factorial(k) * factorial(n - k)))"
   ]
  },
  {
   "cell_type": "code",
   "execution_count": 79,
   "metadata": {},
   "outputs": [
    {
     "name": "stdout",
     "output_type": "stream",
     "text": [
      "Число сочетаний крестей:  715\n"
     ]
    }
   ],
   "source": [
    "clubs = 13\n",
    "result = 4\n",
    "r1 = combinations(clubs, result)\n",
    "print (f\"Число сочетаний крестей:  {r1}\")"
   ]
  },
  {
   "cell_type": "code",
   "execution_count": 80,
   "metadata": {},
   "outputs": [
    {
     "name": "stdout",
     "output_type": "stream",
     "text": [
      "Общее число исходов:  270725\n"
     ]
    }
   ],
   "source": [
    "totals = 52\n",
    "r2 = combinations(totals, result)\n",
    "print (f\"Общее число исходов:  {r2}\")"
   ]
  },
  {
   "cell_type": "code",
   "execution_count": 81,
   "metadata": {},
   "outputs": [
    {
     "name": "stdout",
     "output_type": "stream",
     "text": [
      "вероятность того, что все карты – крести:  0.0026410564225690276\n"
     ]
    }
   ],
   "source": [
    "p = r1/r2\n",
    "print (f\"вероятность того, что все карты – крести:  {p}\")"
   ]
  },
  {
   "cell_type": "markdown",
   "metadata": {},
   "source": [
    "б) Найти вероятность, что среди 4-х карт окажется хотя бы один туз."
   ]
  },
  {
   "cell_type": "code",
   "execution_count": 82,
   "metadata": {},
   "outputs": [
    {
     "name": "stdout",
     "output_type": "stream",
     "text": [
      "Один туз - число сочетаний :  4\n",
      "Два туза - число сочетаний :  6\n",
      "Три туза - число сочетаний :  4\n"
     ]
    }
   ],
   "source": [
    "aces_totals = 4\n",
    "aces_1 = combinations(aces_totals, 1)\n",
    "aces_2 = combinations(aces_totals, 2)\n",
    "aces_3 = combinations(aces_totals, 3)\n",
    "aces_4 = combinations(aces_totals, 4)\n",
    "print (f\"Один туз - число сочетаний :  {aces_1}\")\n",
    "print (f\"Два туза - число сочетаний :  {aces_2}\")\n",
    "print (f\"Три туза - число сочетаний :  {aces_3}\")"
   ]
  },
  {
   "cell_type": "code",
   "execution_count": 83,
   "metadata": {},
   "outputs": [
    {
     "name": "stdout",
     "output_type": "stream",
     "text": [
      "Число сочетаний остальных карт при 1 тузе:  17296\n",
      "Число сочетаний остальных карт при 2 тузах:  1128\n",
      "Число сочетаний остальных карт при 3 тузах:  48\n"
     ]
    }
   ],
   "source": [
    "others_totals = 48\n",
    "other_1 = combinations(others_totals, 3)\n",
    "other_2 = combinations(others_totals, 2)\n",
    "other_3 = combinations(others_totals, 1)\n",
    "print (f\"Число сочетаний остальных карт при 1 тузе:  {other_1}\")\n",
    "print (f\"Число сочетаний остальных карт при 2 тузах:  {other_2}\")\n",
    "print (f\"Число сочетаний остальных карт при 3 тузах:  {other_3}\")\n"
   ]
  },
  {
   "cell_type": "code",
   "execution_count": 84,
   "metadata": {},
   "outputs": [
    {
     "name": "stdout",
     "output_type": "stream",
     "text": [
      "Вероятность, что окажется 1 туз: 0.25555083571890297\n",
      "Вероятность, что окажется 2 туза: 0.0249995382768492\n",
      "Вероятность, что окажется 3 туза: 0.0007092067596269276\n",
      "Вероятность, что окажется 4 туза: 3.6937852063902484e-06\n",
      "Вероятность, что среди 4-х карт окажется хотя бы один туз: 0.2812632745405855\n"
     ]
    }
   ],
   "source": [
    "P1 = (aces_1 * other_1)/r2\n",
    "P2 = (aces_2 * other_2)/r2\n",
    "P3 = (aces_3 * other_3)/r2\n",
    "P4 = 1/r2\n",
    "print (f\"Вероятность, что окажется 1 туз: {P1}\")\n",
    "print (f\"Вероятность, что окажется 2 туза: {P2}\")\n",
    "print (f\"Вероятность, что окажется 3 туза: {P3}\")\n",
    "print (f\"Вероятность, что окажется 4 туза: {P4}\")\n",
    "print(f\"Вероятность, что среди 4-х карт окажется хотя бы один туз: {P1+P2+P3+P4}\")"
   ]
  },
  {
   "cell_type": "markdown",
   "metadata": {},
   "source": [
    "2. На входной двери подъезда установлен кодовый замок, содержащий десять кнопок с цифрами от 0 до 9. Код содержит три цифры, которые нужно нажать одновременно. Какова вероятность того, что человек, не знающий код, откроет дверь с первой попытки?"
   ]
  },
  {
   "cell_type": "code",
   "execution_count": 85,
   "metadata": {},
   "outputs": [
    {
     "name": "stdout",
     "output_type": "stream",
     "text": [
      "Число возможных кодов:  715\n"
     ]
    }
   ],
   "source": [
    "all_buttons = 10\n",
    "code = 3\n",
    "\n",
    "variants = combinations(all_buttons, code)\n",
    "\n",
    "print (f\"Число возможных кодов:  {r1}\")"
   ]
  },
  {
   "cell_type": "code",
   "execution_count": 76,
   "metadata": {},
   "outputs": [
    {
     "name": "stdout",
     "output_type": "stream",
     "text": [
      "Вероятность того, что человек, не знающий код, откроет дверь с первой попытки:  0.008333333333333333\n"
     ]
    }
   ],
   "source": [
    "P_code = 1/variants\n",
    "print (f\"Вероятность того, что человек, не знающий код, откроет дверь с первой попытки:  {P_code}\")"
   ]
  },
  {
   "cell_type": "markdown",
   "metadata": {},
   "source": [
    "3. В ящике имеется 15 деталей, из которых 9 окрашены. Рабочий случайным образом извлекает 3 детали. Какова вероятность того, что все извлеченные детали окрашены?\n"
   ]
  },
  {
   "cell_type": "code",
   "execution_count": 74,
   "metadata": {},
   "outputs": [
    {
     "name": "stdout",
     "output_type": "stream",
     "text": [
      "Вероятность того, что 1 деталь окрашена:  0.6\n",
      "Вероятность того, что 2 деталь окрашена:  0.5714285714285714\n",
      "Вероятность того, что 3 деталь окрашена:  0.5384615384615384\n",
      "Вероятность того,  что все извлеченные детали окрашены:  0.18461538461538457\n"
     ]
    }
   ],
   "source": [
    "from numpy import prod\n",
    "\n",
    "total_details = 15\n",
    "colored_details = 9\n",
    "result_details = 3\n",
    "\n",
    "k = 0\n",
    "P_final = []\n",
    "\n",
    "while k < result_details:\n",
    "    P = (colored_details - k)/(total_details - k)\n",
    "    k += 1\n",
    "    print (f\"Вероятность того, что {k} деталь окрашена:  {P}\")\n",
    "    P_final.append(P)\n",
    "    \n",
    "print (f\"Вероятность того,  что все извлеченные детали окрашены:  {prod(P_final)}\")   \n",
    "\n",
    "    \n"
   ]
  },
  {
   "cell_type": "markdown",
   "metadata": {},
   "source": [
    "4. В лотерее 100 билетов. Из них 2 выигрышных. Какова вероятность того, что 2 приобретенных билета окажутся выигрышными?"
   ]
  },
  {
   "cell_type": "code",
   "execution_count": 62,
   "metadata": {},
   "outputs": [
    {
     "name": "stdout",
     "output_type": "stream",
     "text": [
      "0.00020202020202020202\n"
     ]
    }
   ],
   "source": [
    "P_loto = 2/100*1/99\n",
    "print(P_loto)"
   ]
  },
  {
   "cell_type": "code",
   "execution_count": null,
   "metadata": {},
   "outputs": [],
   "source": []
  }
 ],
 "metadata": {
  "kernelspec": {
   "display_name": "Python 3",
   "language": "python",
   "name": "python3"
  },
  "language_info": {
   "codemirror_mode": {
    "name": "ipython",
    "version": 3
   },
   "file_extension": ".py",
   "mimetype": "text/x-python",
   "name": "python",
   "nbconvert_exporter": "python",
   "pygments_lexer": "ipython3",
   "version": "3.8.5"
  }
 },
 "nbformat": 4,
 "nbformat_minor": 4
}
